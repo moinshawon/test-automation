{
 "cells": [
  {
   "cell_type": "markdown",
   "source": [
    "## Get the product details using selenium and pandas.\r\n",
    "### go to a e-commerce website, search for a product, check all the details from first page, make data frame using PD, and generate excel sheet."
   ],
   "metadata": {}
  },
  {
   "cell_type": "code",
   "execution_count": 6,
   "source": [
    "from selenium import webdriver\r\n",
    "from selenium.webdriver.common.keys import Keys\r\n",
    "import time\r\n",
    "\r\n",
    "from selenium.webdriver.common.by import By\r\n",
    "from selenium.webdriver.support.ui import WebDriverWait\r\n",
    "from selenium.webdriver.support.ui import Select\r\n",
    "from selenium.webdriver.support import expected_conditions as EC\r\n",
    "from selenium.webdriver.common.action_chains import ActionChains\r\n",
    "import pandas as pd"
   ],
   "outputs": [],
   "metadata": {}
  },
  {
   "cell_type": "code",
   "execution_count": 7,
   "source": [
    "PATH = 'C:\\Program Files (x86)\\chromedriver.exe'"
   ],
   "outputs": [],
   "metadata": {}
  },
  {
   "cell_type": "code",
   "execution_count": 10,
   "source": [
    "driver = webdriver.Chrome(PATH)\r\n",
    "driver.get('https://evaly.com.bd/')\r\n",
    "# driver.maximize_window()\r\n",
    "\r\n",
    "try:\r\n",
    "    ad_close = WebDriverWait(driver, 10).until(\r\n",
    "        EC.presence_of_element_located((By.XPATH,\"//button[@class='absolute top-0 right-0 p-2 text-black']\"))\r\n",
    "    ) # sometimes the window pops up. sometimes it doen't !!\r\n",
    "    ad_close.click()\r\n",
    "    \r\n",
    "except:\r\n",
    "    pass\r\n",
    "\r\n",
    "try:    \r\n",
    "    search_product = WebDriverWait(driver, 10).until(\r\n",
    "        EC.presence_of_element_located((By.XPATH,\"//input[@aria-controls='listbox--1']\"))\r\n",
    "    )\r\n",
    "    search_product.click()\r\n",
    "    search_product.clear()          # clear the input box first\r\n",
    "    search_product.send_keys(\"Samsung\") # use your email\r\n",
    "    search_product.send_keys(Keys.RETURN) # hit enter\r\n",
    "    \r\n",
    "    name_of_products = WebDriverWait(driver, 10).until(\r\n",
    "        EC.presence_of_all_elements_located((By.XPATH,\"//div[@class='p-2']//p[@class='text-sm font-semibold leading-7 text-center text-gray-800']\"))\r\n",
    "    ) # as this is a list. need to use: presence_of_all_elements_located\r\n",
    "    \r\n",
    "    name_of_stores = WebDriverWait(driver, 10).until(\r\n",
    "        EC.presence_of_all_elements_located((By.XPATH,\"//div[@class='p-2']//p[@class='text-sm font-semibold text-center text-gray-600']\"))\r\n",
    "    )\r\n",
    "    \r\n",
    "    product_price = WebDriverWait(driver, 10).until(\r\n",
    "        EC.presence_of_all_elements_located((By.XPATH,\"//div[@class='p-2']//p[@class='SearchProductCard___StyledP2-sc-1jpjeex-1 hpunAx']|//p[@class='SearchProductCard___StyledP3-sc-1jpjeex-2 kRazbj']\"))\r\n",
    "    )\r\n",
    "    \r\n",
    "except: # if the text did not find then, pass it\r\n",
    "    pass"
   ],
   "outputs": [],
   "metadata": {}
  },
  {
   "cell_type": "markdown",
   "source": [
    "**Make empty list and append the text from the element.**"
   ],
   "metadata": {}
  },
  {
   "cell_type": "code",
   "execution_count": 11,
   "source": [
    "name_list = []\r\n",
    "store_list = []\r\n",
    "price_list = []\r\n",
    "\r\n",
    "for i in name_of_products:\r\n",
    "    name_list.append(i.text)\r\n",
    "\r\n",
    "for i in name_of_stores:\r\n",
    "    store_list.append(i.text)\r\n",
    "\r\n",
    "for i in product_price:\r\n",
    "    price_list.append(i.text)"
   ],
   "outputs": [],
   "metadata": {}
  },
  {
   "cell_type": "markdown",
   "source": [
    "**Make a dictionary so that we can convert it into DataFrame.**"
   ],
   "metadata": {}
  },
  {
   "cell_type": "code",
   "execution_count": 12,
   "source": [
    "product_dict = {'Product Name': name_list,\r\n",
    "                'Store': store_list,\r\n",
    "                'Price': price_list}"
   ],
   "outputs": [],
   "metadata": {}
  },
  {
   "cell_type": "code",
   "execution_count": null,
   "source": [
    "print(product_dict)"
   ],
   "outputs": [],
   "metadata": {}
  },
  {
   "cell_type": "markdown",
   "source": [
    "**Making DataFrame with pandas**"
   ],
   "metadata": {}
  },
  {
   "cell_type": "code",
   "execution_count": 6,
   "source": [
    "df = pd.DataFrame.from_dict(product_dict)"
   ],
   "outputs": [],
   "metadata": {}
  },
  {
   "cell_type": "markdown",
   "source": [
    "**Data cleaning as '৳' not looking cool.**"
   ],
   "metadata": {}
  },
  {
   "cell_type": "code",
   "execution_count": 7,
   "source": [
    "df['Price'] = df['Price'].apply(lambda z: z.replace('৳', 'TK: '))\r\n",
    "df"
   ],
   "outputs": [
    {
     "output_type": "execute_result",
     "data": {
      "text/plain": [
       "                                         Product Name  \\\n",
       "0                            Samsung Earphone - White   \n",
       "1   Samsung Adaptive Fast Charger for Samsung Gala...   \n",
       "2                    Samsung Earphone - White - BT010   \n",
       "3                    Samsung Earphone - White - BT010   \n",
       "4                           Samsung Ear Phone - White   \n",
       "5                           Samsung Ear Phone - White   \n",
       "6                    Samsung Earphone - White - BT010   \n",
       "7                         Samsung Memory Card - 32 GB   \n",
       "8          Samsung RT34K5532S8/D3 Refrigerator - 321L   \n",
       "9                         Samsung Memory Card - 32 GB   \n",
       "10             Samsung 25 Watt Travel Adapter - White   \n",
       "11             Samsung 25 Watt Travel Adapter - White   \n",
       "12             Samsung 25 Watt Travel Adapter - White   \n",
       "13         Samsung 32'' UA32N4010ARSFS LED TV - Black   \n",
       "14        Samsung AX90R7080WD/EU Air Purifier - White   \n",
       "15        Samsung AX40R3030WM/EU Air Purifier - White   \n",
       "16            Samsung Original Car Fast Charger - 15W   \n",
       "17              Samsung Memory Card - 16 Gb - - Black   \n",
       "18       Plastic Ear Phone for Samsung Mobile - White   \n",
       "19       Samsung Micro SD Memory Card - 128GB - Black   \n",
       "\n",
       "                                                Store      Price  \n",
       "0       BROTHERS TELECOM for Cash on Delivery Service    TK: 160  \n",
       "1               KBN MART for Cash on Delivery Service   TK: 1150  \n",
       "2       BROTHERS TELECOM for Cash on Delivery Service    TK: 160  \n",
       "3   Smart Gadgets Bangladesh for Cash on Delivery ...    TK: 320  \n",
       "4   NRS Talecom & Smart Gadget for Cash on Deliver...    TK: 499  \n",
       "5   Smart Gadgets Bangladesh for Cash on Delivery ...    TK: 350  \n",
       "6            GADGET KHOR for Cash on Delivery Service    TK: 400  \n",
       "7                         Adarsha Mart (Regular Shop)    TK: 600  \n",
       "8              Samsung Electronics for Priority Store  TK: 48300  \n",
       "9   Smart Gadgets Bangladesh for Cash on Delivery ...    TK: 690  \n",
       "10  NRS Talecom & Smart Gadget for Cash on Deliver...   TK: 2590  \n",
       "11  Smart Gadgets Bangladesh for Cash on Delivery ...   TK: 2550  \n",
       "12              KBN MART for Cash on Delivery Service   TK: 2050  \n",
       "13             Samsung Electronics for Priority Store  TK: 25462  \n",
       "14             Samsung Electronics for Priority Store  TK: 41444  \n",
       "15             Samsung Electronics for Priority Store  TK: 22409  \n",
       "16  Nextera Design & Sourcing for Cash on Delivery...   TK: 1750  \n",
       "17  Smart Gadgets Bangladesh for Cash on Delivery ...    TK: 600  \n",
       "18  NRS Talecom & Smart Gadget for Cash on Deliver...    TK: 450  \n",
       "19        Purchase Point for Cash on Delivery Service   TK: 1615  "
      ],
      "text/html": [
       "<div>\n",
       "<style scoped>\n",
       "    .dataframe tbody tr th:only-of-type {\n",
       "        vertical-align: middle;\n",
       "    }\n",
       "\n",
       "    .dataframe tbody tr th {\n",
       "        vertical-align: top;\n",
       "    }\n",
       "\n",
       "    .dataframe thead th {\n",
       "        text-align: right;\n",
       "    }\n",
       "</style>\n",
       "<table border=\"1\" class=\"dataframe\">\n",
       "  <thead>\n",
       "    <tr style=\"text-align: right;\">\n",
       "      <th></th>\n",
       "      <th>Product Name</th>\n",
       "      <th>Store</th>\n",
       "      <th>Price</th>\n",
       "    </tr>\n",
       "  </thead>\n",
       "  <tbody>\n",
       "    <tr>\n",
       "      <th>0</th>\n",
       "      <td>Samsung Earphone - White</td>\n",
       "      <td>BROTHERS TELECOM for Cash on Delivery Service</td>\n",
       "      <td>TK: 160</td>\n",
       "    </tr>\n",
       "    <tr>\n",
       "      <th>1</th>\n",
       "      <td>Samsung Adaptive Fast Charger for Samsung Gala...</td>\n",
       "      <td>KBN MART for Cash on Delivery Service</td>\n",
       "      <td>TK: 1150</td>\n",
       "    </tr>\n",
       "    <tr>\n",
       "      <th>2</th>\n",
       "      <td>Samsung Earphone - White - BT010</td>\n",
       "      <td>BROTHERS TELECOM for Cash on Delivery Service</td>\n",
       "      <td>TK: 160</td>\n",
       "    </tr>\n",
       "    <tr>\n",
       "      <th>3</th>\n",
       "      <td>Samsung Earphone - White - BT010</td>\n",
       "      <td>Smart Gadgets Bangladesh for Cash on Delivery ...</td>\n",
       "      <td>TK: 320</td>\n",
       "    </tr>\n",
       "    <tr>\n",
       "      <th>4</th>\n",
       "      <td>Samsung Ear Phone - White</td>\n",
       "      <td>NRS Talecom &amp; Smart Gadget for Cash on Deliver...</td>\n",
       "      <td>TK: 499</td>\n",
       "    </tr>\n",
       "    <tr>\n",
       "      <th>5</th>\n",
       "      <td>Samsung Ear Phone - White</td>\n",
       "      <td>Smart Gadgets Bangladesh for Cash on Delivery ...</td>\n",
       "      <td>TK: 350</td>\n",
       "    </tr>\n",
       "    <tr>\n",
       "      <th>6</th>\n",
       "      <td>Samsung Earphone - White - BT010</td>\n",
       "      <td>GADGET KHOR for Cash on Delivery Service</td>\n",
       "      <td>TK: 400</td>\n",
       "    </tr>\n",
       "    <tr>\n",
       "      <th>7</th>\n",
       "      <td>Samsung Memory Card - 32 GB</td>\n",
       "      <td>Adarsha Mart (Regular Shop)</td>\n",
       "      <td>TK: 600</td>\n",
       "    </tr>\n",
       "    <tr>\n",
       "      <th>8</th>\n",
       "      <td>Samsung RT34K5532S8/D3 Refrigerator - 321L</td>\n",
       "      <td>Samsung Electronics for Priority Store</td>\n",
       "      <td>TK: 48300</td>\n",
       "    </tr>\n",
       "    <tr>\n",
       "      <th>9</th>\n",
       "      <td>Samsung Memory Card - 32 GB</td>\n",
       "      <td>Smart Gadgets Bangladesh for Cash on Delivery ...</td>\n",
       "      <td>TK: 690</td>\n",
       "    </tr>\n",
       "    <tr>\n",
       "      <th>10</th>\n",
       "      <td>Samsung 25 Watt Travel Adapter - White</td>\n",
       "      <td>NRS Talecom &amp; Smart Gadget for Cash on Deliver...</td>\n",
       "      <td>TK: 2590</td>\n",
       "    </tr>\n",
       "    <tr>\n",
       "      <th>11</th>\n",
       "      <td>Samsung 25 Watt Travel Adapter - White</td>\n",
       "      <td>Smart Gadgets Bangladesh for Cash on Delivery ...</td>\n",
       "      <td>TK: 2550</td>\n",
       "    </tr>\n",
       "    <tr>\n",
       "      <th>12</th>\n",
       "      <td>Samsung 25 Watt Travel Adapter - White</td>\n",
       "      <td>KBN MART for Cash on Delivery Service</td>\n",
       "      <td>TK: 2050</td>\n",
       "    </tr>\n",
       "    <tr>\n",
       "      <th>13</th>\n",
       "      <td>Samsung 32'' UA32N4010ARSFS LED TV - Black</td>\n",
       "      <td>Samsung Electronics for Priority Store</td>\n",
       "      <td>TK: 25462</td>\n",
       "    </tr>\n",
       "    <tr>\n",
       "      <th>14</th>\n",
       "      <td>Samsung AX90R7080WD/EU Air Purifier - White</td>\n",
       "      <td>Samsung Electronics for Priority Store</td>\n",
       "      <td>TK: 41444</td>\n",
       "    </tr>\n",
       "    <tr>\n",
       "      <th>15</th>\n",
       "      <td>Samsung AX40R3030WM/EU Air Purifier - White</td>\n",
       "      <td>Samsung Electronics for Priority Store</td>\n",
       "      <td>TK: 22409</td>\n",
       "    </tr>\n",
       "    <tr>\n",
       "      <th>16</th>\n",
       "      <td>Samsung Original Car Fast Charger - 15W</td>\n",
       "      <td>Nextera Design &amp; Sourcing for Cash on Delivery...</td>\n",
       "      <td>TK: 1750</td>\n",
       "    </tr>\n",
       "    <tr>\n",
       "      <th>17</th>\n",
       "      <td>Samsung Memory Card - 16 Gb - - Black</td>\n",
       "      <td>Smart Gadgets Bangladesh for Cash on Delivery ...</td>\n",
       "      <td>TK: 600</td>\n",
       "    </tr>\n",
       "    <tr>\n",
       "      <th>18</th>\n",
       "      <td>Plastic Ear Phone for Samsung Mobile - White</td>\n",
       "      <td>NRS Talecom &amp; Smart Gadget for Cash on Deliver...</td>\n",
       "      <td>TK: 450</td>\n",
       "    </tr>\n",
       "    <tr>\n",
       "      <th>19</th>\n",
       "      <td>Samsung Micro SD Memory Card - 128GB - Black</td>\n",
       "      <td>Purchase Point for Cash on Delivery Service</td>\n",
       "      <td>TK: 1615</td>\n",
       "    </tr>\n",
       "  </tbody>\n",
       "</table>\n",
       "</div>"
      ]
     },
     "metadata": {},
     "execution_count": 7
    }
   ],
   "metadata": {}
  },
  {
   "cell_type": "code",
   "execution_count": null,
   "source": [
    "df.to_excel('product details.xlsx', index = False)"
   ],
   "outputs": [],
   "metadata": {}
  }
 ],
 "metadata": {
  "orig_nbformat": 4,
  "language_info": {
   "name": "python",
   "version": "3.8.5",
   "mimetype": "text/x-python",
   "codemirror_mode": {
    "name": "ipython",
    "version": 3
   },
   "pygments_lexer": "ipython3",
   "nbconvert_exporter": "python",
   "file_extension": ".py"
  },
  "kernelspec": {
   "name": "python3",
   "display_name": "Python 3.8.5 64-bit ('base': conda)"
  },
  "interpreter": {
   "hash": "b3ba2566441a7c06988d0923437866b63cedc61552a5af99d1f4fb67d367b25f"
  }
 },
 "nbformat": 4,
 "nbformat_minor": 2
}