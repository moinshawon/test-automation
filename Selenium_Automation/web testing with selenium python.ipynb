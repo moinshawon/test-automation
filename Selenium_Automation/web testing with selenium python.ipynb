{
 "cells": [
  {
   "cell_type": "markdown",
   "metadata": {},
   "source": [
    "## Web testing with <font color=\"MediumSeaGreen\"> Selenium Python WebDriver</font> 🐍"
   ]
  },
  {
   "cell_type": "code",
   "execution_count": 6,
   "metadata": {},
   "outputs": [],
   "source": [
    "from selenium import webdriver\n",
    "from selenium.webdriver.common.keys import Keys\n",
    "import time\n",
    "\n",
    "from selenium.webdriver.common.by import By\n",
    "from selenium.webdriver.support.ui import WebDriverWait\n",
    "from selenium.webdriver.support.ui import Select\n",
    "from selenium.webdriver.support import expected_conditions as EC\n",
    "from selenium.webdriver.common.action_chains import ActionChains\n",
    "import pandas as pd"
   ]
  },
  {
   "cell_type": "markdown",
   "metadata": {},
   "source": [
    "### Go [here](https://chromedriver.chromium.org/downloads) to download the Chrome driver. To know which Chrome version you are using currently, click the 3 dot symbol (top-right corner) of the Chrome browser, go the \"help\" option, go to \"About google chrome\"."
   ]
  },
  {
   "cell_type": "code",
   "execution_count": 7,
   "metadata": {},
   "outputs": [],
   "source": [
    "PATH = 'C:\\Program Files (x86)\\chromedriver.exe'"
   ]
  },
  {
   "cell_type": "markdown",
   "metadata": {},
   "source": [
    "## <font color=\"lightseagreen\"> Task 1: grab some elements from website without xpath.</font>\n",
    "\n",
    "###  Click [here](https://moinulislamshawon.github.io/) to visit my website !! Don't make any chaos &#128121; "
   ]
  },
  {
   "cell_type": "code",
   "execution_count": 22,
   "metadata": {},
   "outputs": [],
   "source": [
    "driver = webdriver.Chrome(PATH)\n",
    "\n",
    "driver.get('https://moinulislamshawon.github.io/')"
   ]
  },
  {
   "cell_type": "markdown",
   "metadata": {},
   "source": [
    "### Get the all projects in text from the website"
   ]
  },
  {
   "cell_type": "code",
   "execution_count": 23,
   "metadata": {},
   "outputs": [
    {
     "name": "stdout",
     "output_type": "stream",
     "text": [
      "PROJECTS\n",
      "CNN ensemble architectures and federated learning for classifying brain tumor\n",
      "July 2020 – October 2020\n",
      "• Extracted 3D MRI NIfTI images into 2D. Used six CNN architectures: VGG16, VGG19, Inception V3, ResNet50, DenseNet121, and Xception. Designed average & voting ensemble by taking the best 3 models. Further, FL was created by implementing a global model with an average CNN model in a central server that receives an updated weight trained by local data (in client-server). Calculated sensitivity, specificity, AUC, DSC, and test accuracy to justify models’ performance.\n",
      "Deep CNN based model to detect Covid-19 from X-ray scans\n",
      "January 2021 – March 2021\n",
      "• Applied manual CNN architecture and transfer learning to detect covid-19 from chest X-ray images. Manual CNN model built with five Conv2D layers, 2 FC, and the sigmoid activation function to classify covid+ or covid-. DenseNet121 was applied as a transfer learning model. After comparison, received 96.93\\% & 97.43\\% accuracy.\n",
      "Industrial fault diagnosis using Hilbert transform and RNN-CNN\n",
      "March 2021 – April 2021\n",
      "• Took input of standard signal & 3 faults signal of inner, outer, centered of bearing motors. Implemented Hilbert transform to produced absolute signal and constructed 2D images of that. Last, performed CNN-LSTM model to train and test for identifying fault signals.\n",
      "OMDB and TasteDive Movie recomendation using REST APIs (Guided project)\n",
      "October 2020\n",
      "• Extracted key features using python program interacting with REST APIs\n",
      "TensorFlow Guided Projects (Coursera)\n",
      "July 2020\n",
      "• RPS Categorical Classification\n",
      "• Sign langauge Multiclass Classification\n",
      "• Horse vs Human with InceptionV3\n",
      "• Cat vs Dog with Augmentation\n",
      "• Fashion MNIST with CNN Model\n",
      "Software quality assurance\n",
      "May 2021 – Present\n",
      "• Web testing with Selenium WebDriver\n",
      "• Interacting with MySQL database\n",
      "Front End Web Designing\n",
      "May 2020 – Present\n",
      "• Personal Blog\n",
      "• Tesla Roadster (guided project)\n",
      "• Cuda Project (guided project)\n",
      "Cisco Networking Project\n",
      "September 2019 – December 2019\n",
      "• Based on routing algorithm, NAT-PAT, ACL, DHCP\n"
     ]
    }
   ],
   "source": [
    "projects = driver.find_element_by_class_name(\"co-curriculum\")\n",
    "\n",
    "# one as a whole saving this variable. next do other things as per req\n",
    "\n",
    "print(projects.text)\n",
    "\n",
    "# In html, take the element \n",
    "# in this way-- id > name > class .. coz id is uniquely identify !!"
   ]
  },
  {
   "cell_type": "markdown",
   "metadata": {},
   "source": [
    "### Get all the projet's title from the website"
   ]
  },
  {
   "cell_type": "code",
   "execution_count": 24,
   "metadata": {},
   "outputs": [
    {
     "name": "stdout",
     "output_type": "stream",
     "text": [
      "CNN ensemble architectures and federated learning for classifying brain tumor\n",
      "Deep CNN based model to detect Covid-19 from X-ray scans\n",
      "Industrial fault diagnosis using Hilbert transform and RNN-CNN\n",
      "OMDB and TasteDive Movie recomendation using REST APIs (Guided project)\n",
      "TensorFlow Guided Projects (Coursera)\n",
      "Software quality assurance\n",
      "Front End Web Designing\n",
      "Cisco Networking Project\n"
     ]
    }
   ],
   "source": [
    "projects_header = projects.find_elements_by_tag_name(\"h3\")\n",
    "\n",
    "# lots of h3 saved in 'projects' variable. now i'm taking these\n",
    "\n",
    "for a in projects_header:\n",
    "    print(a.text)"
   ]
  },
  {
   "cell_type": "markdown",
   "metadata": {},
   "source": [
    "### Get all the project description from the website "
   ]
  },
  {
   "cell_type": "code",
   "execution_count": 25,
   "metadata": {
    "scrolled": false
   },
   "outputs": [
    {
     "name": "stdout",
     "output_type": "stream",
     "text": [
      "• Extracted 3D MRI NIfTI images into 2D. Used six CNN architectures: VGG16, VGG19, Inception V3, ResNet50, DenseNet121, and Xception. Designed average & voting ensemble by taking the best 3 models. Further, FL was created by implementing a global model with an average CNN model in a central server that receives an updated weight trained by local data (in client-server). Calculated sensitivity, specificity, AUC, DSC, and test accuracy to justify models’ performance.\n",
      "• Applied manual CNN architecture and transfer learning to detect covid-19 from chest X-ray images. Manual CNN model built with five Conv2D layers, 2 FC, and the sigmoid activation function to classify covid+ or covid-. DenseNet121 was applied as a transfer learning model. After comparison, received 96.93\\% & 97.43\\% accuracy.\n",
      "• Took input of standard signal & 3 faults signal of inner, outer, centered of bearing motors. Implemented Hilbert transform to produced absolute signal and constructed 2D images of that. Last, performed CNN-LSTM model to train and test for identifying fault signals.\n",
      "• Extracted key features using python program interacting with REST APIs\n",
      "• RPS Categorical Classification\n",
      "• Sign langauge Multiclass Classification\n",
      "• Horse vs Human with InceptionV3\n",
      "• Cat vs Dog with Augmentation\n",
      "• Fashion MNIST with CNN Model\n",
      "• Web testing with Selenium WebDriver\n",
      "• Interacting with MySQL database\n",
      "• Personal Blog\n",
      "• Tesla Roadster (guided project)\n",
      "• Cuda Project (guided project)\n",
      "• Based on routing algorithm, NAT-PAT, ACL, DHCP\n"
     ]
    }
   ],
   "source": [
    "project_description = projects.find_elements_by_tag_name(\"p\")\n",
    "\n",
    "# lots of description of projects so i need to use elements\n",
    "\n",
    "for a in project_description:\n",
    "    print(a.text)"
   ]
  },
  {
   "cell_type": "markdown",
   "metadata": {},
   "source": [
    "### Get all the experinence "
   ]
  },
  {
   "cell_type": "code",
   "execution_count": 26,
   "metadata": {},
   "outputs": [
    {
     "name": "stdout",
     "output_type": "stream",
     "text": [
      "EXPERIENCE\n",
      "Research Assistant at Multimedia Signal & Image Processing Research Group\n",
      "January 2021 – Present\n",
      "• Under the supervision of Dr. Jia Uddin.\n",
      "• Research areas: Deep learning, image processing, and fault signal detection.\n",
      "Undergraduate Teaching Assistant at BRAC University Dept. of CSE\n",
      "September 2019 – September 2020\n",
      "• Course Taught: Digital Logic Design.\n",
      "• Checking Theory & Lab assignments and giving feedback.\n",
      "• Took lab classes alongside with faculties.\n"
     ]
    }
   ],
   "source": [
    "first = driver.find_element_by_class_name(\"part-time\")\n",
    "print(first.text)"
   ]
  },
  {
   "cell_type": "markdown",
   "metadata": {},
   "source": [
    "### Get the title of the section "
   ]
  },
  {
   "cell_type": "code",
   "execution_count": 27,
   "metadata": {},
   "outputs": [
    {
     "name": "stdout",
     "output_type": "stream",
     "text": [
      "EXPERIENCE\n"
     ]
    }
   ],
   "source": [
    "section_head = first.find_element_by_tag_name(\"h2\")\n",
    "\n",
    "# only one h2 in 'first' var. so i used element.\n",
    "    \n",
    "print(section_head.text)"
   ]
  },
  {
   "cell_type": "markdown",
   "metadata": {},
   "source": [
    "### Get the exp name "
   ]
  },
  {
   "cell_type": "code",
   "execution_count": 28,
   "metadata": {},
   "outputs": [
    {
     "name": "stdout",
     "output_type": "stream",
     "text": [
      "Research Assistant at Multimedia Signal & Image Processing Research Group\n",
      "Undergraduate Teaching Assistant at BRAC University Dept. of CSE\n"
     ]
    }
   ],
   "source": [
    "exp_head = first.find_elements_by_tag_name(\"h3\")\n",
    "\n",
    "# lots of h3 in 'first' var. i taking all now.\n",
    "\n",
    "for a in exp_head:\n",
    "    print(a.text)"
   ]
  },
  {
   "cell_type": "markdown",
   "metadata": {},
   "source": [
    "### Get the decpriction of exp "
   ]
  },
  {
   "cell_type": "code",
   "execution_count": 29,
   "metadata": {},
   "outputs": [
    {
     "name": "stdout",
     "output_type": "stream",
     "text": [
      "• Under the supervision of Dr. Jia Uddin.\n",
      "• Research areas: Deep learning, image processing, and fault signal detection.\n",
      "• Course Taught: Digital Logic Design.\n",
      "• Checking Theory & Lab assignments and giving feedback.\n",
      "• Took lab classes alongside with faculties.\n"
     ]
    }
   ],
   "source": [
    "exp_details = first.find_elements_by_class_name(\"kaj\")\n",
    "\n",
    "# when i need multiple element i use elements\n",
    "\n",
    "for i in exp_details:\n",
    "    print(i.text)"
   ]
  },
  {
   "cell_type": "markdown",
   "metadata": {},
   "source": [
    "## <font color=\"Tomato\"> Task 2: find a clickable link from a page and click it. Go to next page, and click another link/button. Fill up something and search/enter. Come back again to the home page.</font>"
   ]
  },
  {
   "cell_type": "markdown",
   "metadata": {},
   "source": [
    "**Advance Xpath example:**\n",
    "\n",
    "<hr>\n",
    "++button: <br>\n",
    "3: //div[@class='dropdown']\n",
    "\n",
    "1: //button[@type='button' and @class='btn'] \n",
    "\n",
    "2: //a[@type='song']|//a[@class='genre'] --pipline\n",
    "\n",
    "2: //button[contains(text(),'Sign Up')]\n",
    "\n",
    "4: //button[@type='button' and @class='btn btn-secondary dropdown-toggle' and @id='dropdownMenuButton']\n",
    "\n",
    "<hr>\n",
    "\n",
    "++ Xpath has 3 functions: <br>\n",
    "text: //a[text()='Features'] -- directly find right one.\n",
    "\n",
    "contains: //a[contains(text(),'Features')] --can find similar elements.\n",
    "\n",
    "contains: //a[contains(@src, 'sprite')] --no equal sign in contains.\n",
    "\n",
    "starts-with: //a[start(@alt,'shop')] --match the first elements.\n",
    "\n",
    "<hr>\n",
    "\n",
    "++preceding-sibling: <br>\n",
    "1: //a[text()='test2 test2']//parent::td[@class='datalistrow']//preceding-sibling::td[@class='datalistrow']//input\n",
    "\n",
    "<hr>\n",
    "\n",
    "++parent & preceding-sibling (pisoner bro), forward-sibling (shamner bro): <br>\n",
    "1: //a[text()='test2 test2']//parent::td[@class='datalistrow']//preceding-sibling::td[@class='datalistrow']//input[@name='contact_id']\n",
    "\n",
    "2: 1: //a[text()='test2 test2']//parent::td[@class='datalistrow']//forward-sibling::td[@class='datalistrow']//input"
   ]
  },
  {
   "cell_type": "markdown",
   "metadata": {},
   "source": [
    "### <font color=\"Tomato\"> Airbnb: </font>"
   ]
  },
  {
   "cell_type": "code",
   "execution_count": 12,
   "metadata": {},
   "outputs": [],
   "source": [
    "driver = webdriver.Chrome(PATH)\n",
    "\n",
    "driver.get('https://www.airbnb.com/')\n",
    "\n",
    "try:\n",
    "    # -- clicking in France, Paris !! 🇫🇷\n",
    "    \n",
    "    paris = WebDriverWait(driver, 10).until(\n",
    "        EC.presence_of_element_located((By.XPATH,\"//div[@class='_1byskwn']//div[contains(text(),'Paris')]//parent::div[@class='_1hsn6c7']//parent::a[@class]\"))\n",
    "    )\n",
    "    paris.click()\n",
    "\n",
    "    # -- now click Dijon and go to next page: Dijon\n",
    "    \n",
    "    dijon = WebDriverWait(driver, 10).until(\n",
    "        EC.presence_of_element_located((By.XPATH, \"//a[@aria-label='Dijon 262 km']\"))\n",
    "    ) \n",
    "    # search for the text in the page. wait 10 sec until find that\n",
    "    # it has to be clickable text/button. usually 'a' tag has this.\n",
    "    # now find the text again and go to next page\n",
    "    dijon.click()\n",
    "    time.sleep(2)\n",
    "    \n",
    "    # -- click login button\n",
    "    \n",
    "    login = WebDriverWait(driver, 10).until(\n",
    "        EC.presence_of_element_located((By.XPATH, \"//form[@class='_t26s9ye' and @action='/login']//input[@class='_1r6oup6']\"))\n",
    "    ) \n",
    "    login.click()\n",
    "    \n",
    "    # -- now fill up and enter phone number\n",
    "    \n",
    "    phone = driver.find_element_by_xpath(\"//input[@id='phoneNumber']\") # find HTML tag input and attribute name = s\n",
    "    phone.clear()   # clear the input box first\n",
    "    phone.send_keys(\"12345\")  # fill the search box 'test'\n",
    "    \n",
    "    # phone.send_keys(Keys.RETURN) # hit enter\n",
    "    \n",
    "    button = WebDriverWait(driver, 10).until(\n",
    "        EC.presence_of_element_located((By.XPATH, \"//button[@class='_utuv3hg']\"))\n",
    "    ) \n",
    "    time.sleep(2) # just to check what is going on the web page \n",
    "    button.click()\n",
    "    time.sleep(2)\n",
    "    \n",
    "#     select = WebDriverWait(driver, 10).until(\n",
    "#         EC.presence_of_element_located((By.XPATH, \"//parent::select[@id='children']//option[@value='5']\"))\n",
    "#     ) \n",
    "    \n",
    "#     select.click()\n",
    "    \n",
    "    # -- going back and forward\n",
    "    \n",
    "    driver.back() # go back\n",
    "    time.sleep(3)\n",
    "    driver.back()\n",
    "    time.sleep(3)\n",
    "    driver.forward()\n",
    "    driver.forward()\n",
    "    \n",
    "except: # if the text did not find then, pass it\n",
    "    pass"
   ]
  },
  {
   "cell_type": "markdown",
   "metadata": {},
   "source": [
    "## <font color='MediumPurple'> Task 3: copy and paste by using ActionChains </font>\n",
    "### <font color='MediumPurple'> GitHub: </font>"
   ]
  },
  {
   "cell_type": "code",
   "execution_count": 10,
   "metadata": {},
   "outputs": [],
   "source": [
    "from selenium.webdriver.common.action_chains import ActionChains\n",
    "\n",
    "driver = webdriver.Chrome(PATH)\n",
    "driver.get('https://github.com/login') # go to the site\n",
    "\n",
    "\n",
    "driver.implicitly_wait(3) # wait 3 sec before doing next task\n",
    "\n",
    "head_line = driver.find_element_by_xpath(\"//label[@for='login_field']\")\n",
    "email_input = driver.find_element_by_xpath(\"//input[@id='login_field']\")\n",
    "password_input = driver.find_element_by_xpath(\"//input[@id='password']\")\n",
    "\n",
    "# -- copy element 'Username or email address' but address will be copied\n",
    "\n",
    "copy_action = ActionChains(driver)                # creating an instance of ActionChains\n",
    "copy_action.move_to_element(head_line)            # move to 'Username or email address'\n",
    "copy_action.double_click()                        # for copy we need to double click\n",
    "copy_action.key_down(Keys.CONTROL).send_keys('c') # press ctrl + copy and hold \n",
    "\n",
    "# -- paste it to user input box and copy again\n",
    "\n",
    "copy_action.move_to_element(email_input)          # go to user input box\n",
    "copy_action.click()                               # click it to write anything\n",
    "copy_action.key_down(Keys.CONTROL).send_keys('v') # paste it\n",
    "time.sleep(2)\n",
    "copy_action.send_keys('a').send_keys('c') \n",
    "# copying all what just pasted there\n",
    "# still holding 'down' so no need to mention key_down\n",
    "\n",
    "# -- copy from the user input box and paste it to password input box\n",
    "\n",
    "copy_action.move_to_element(password_input)       # go to pass box\n",
    "copy_action.click() \n",
    "time.sleep(2)\n",
    "copy_action.key_down(Keys.CONTROL).send_keys('v') # press down: and paste\n",
    "copy_action.perform()                             # execute all\n",
    "\n",
    "sign_in_btn = driver.find_element_by_xpath(\"//input[@name='commit']\")\n",
    "sign_in_btn.click()\n"
   ]
  },
  {
   "cell_type": "markdown",
   "metadata": {},
   "source": [
    "## <font color='PaleVioletRed'> Task 4: log in, drop down, handle dynamic value change with JS</font>\n",
    "### <font color='PaleVioletRed'> BracU USIS: </font>"
   ]
  },
  {
   "cell_type": "code",
   "execution_count": 9,
   "metadata": {},
   "outputs": [],
   "source": [
    "driver = webdriver.Chrome(PATH)\n",
    "driver.get('https://usis.bracu.ac.bd/academia/')\n",
    "\n",
    "try:\n",
    "    \n",
    "# --------- give you valid usis email & password ---------\n",
    "    \n",
    "    email_input = WebDriverWait(driver, 10).until(\n",
    "        EC.presence_of_element_located((By.ID,\"username\"))\n",
    "    )\n",
    "    email_input.click()\n",
    "    email_input.clear()          # clear the input box first\n",
    "    email_input.send_keys(\"sadique.tahmid.7@gmail.com\") # use your email\n",
    "    \n",
    "    password_input = WebDriverWait(driver, 10).until(\n",
    "        EC.presence_of_element_located((By.ID,\"password\"))\n",
    "    )\n",
    "    password_input.click()\n",
    "    password_input.clear()    \n",
    "    password_input.send_keys(\"MetalGear13\")  # use your password\n",
    "    password_input.send_keys(Keys.RETURN)    # hit enter\n",
    "    time.sleep(2)\n",
    "    \n",
    "# --------- go to the student section then grade sheet and download it ---------\n",
    "    \n",
    "    drp_std_element = WebDriverWait(driver, 10).until(\n",
    "        EC.presence_of_element_located((By.XPATH,\"//a[text()='Student']\"))\n",
    "    )\n",
    "    drp_std_element.click() \n",
    "    time.sleep(1)\n",
    "    \n",
    "    # go to grade sheet page\n",
    "    grade_sheet = WebDriverWait(driver, 10).until(\n",
    "        EC.presence_of_element_located((By.XPATH,\"//a[text()='Student Grade Sheet']\"))\n",
    "    )\n",
    "    # as it is a dynamic page we need to select by JS\n",
    "    driver.execute_script(\"arguments[0].click()\", grade_sheet)\n",
    "    # driver.execute_script(\"arguments[0].style.display = 'none';\", grade_sheet)\n",
    "    \n",
    "    # find the print button from grade sheet page\n",
    "    grade_sheet_print = WebDriverWait(driver, 10).until(\n",
    "        EC.presence_of_element_located((By.ID,\"print-button\"))\n",
    "    )\n",
    "    grade_sheet_print.click()\n",
    "    time.sleep(1)\n",
    "    \n",
    "    \n",
    "# --------- go to advising page and click seat status. Find a course ---------\n",
    "# ------------------ by selecting year and session --------------\n",
    "\n",
    "    # advising page element\n",
    "    drp_advising_element = WebDriverWait(driver, 10).until(\n",
    "        EC.presence_of_element_located((By.XPATH,\"//a[text()='Advising']\"))\n",
    "    ) \n",
    "    drp_advising_element.click()\n",
    "    time.sleep(1)\n",
    "    \n",
    "    # going to seat status page\n",
    "    seat_status = WebDriverWait(driver, 10).until(\n",
    "        EC.presence_of_element_located((By.XPATH,\"//a[text()='Seat Status']\"))\n",
    "    )\n",
    "    driver.execute_script(\"arguments[0].click()\", seat_status)\n",
    "    time.sleep(1)\n",
    "    \n",
    "    # grabing the Adving year box\n",
    "    advising_year_element = WebDriverWait(driver, 10).until(\n",
    "        EC.presence_of_element_located((By.ID,\"academiaYear\"))\n",
    "    )\n",
    "    # using 'Select' class from selenium for drop down menu\n",
    "    # the HTML tag of the web page also select class\n",
    "    # here, creating an object of it then we can work with it's methods\n",
    "    advising_year_drop_down = Select(advising_year_element)\n",
    "    \n",
    "    # select the desire acedamic year\n",
    "    advising_year_drop_down.select_by_visible_text(\"2021\")\n",
    "    \n",
    "    # select by index: 2021 is in index number 2\n",
    "    #advising_year_drop_down.select_by_index(\"2\")\n",
    "    \n",
    "    # option always contains value attribute\n",
    "    #advising_year_drop_down.select_by_value(\"279286\")\n",
    "    time.sleep(1)\n",
    "    \n",
    "    \n",
    "    # same way selecting session from drop down menu\n",
    "    session_element = WebDriverWait(driver, 10).until(\n",
    "        EC.presence_of_element_located((By.ID,\"academiaSession\"))\n",
    "    )\n",
    "    session_drop_down = Select(session_element)\n",
    "    session_drop_down.select_by_visible_text(\"Summer 2021\")\n",
    "    time.sleep(1)\n",
    "    \n",
    "    # find HTML tag input and any attribute (name preffered) \n",
    "    search_box = WebDriverWait(driver, 10).until(\n",
    "        EC.presence_of_element_located((By.ID, \"queryCourseStatus\"))\n",
    "    ) \n",
    "    search_box.clear()  \n",
    "    search_box.send_keys(\"cse422\")\n",
    "    \n",
    "    search_button = WebDriverWait(driver, 10).until(\n",
    "        EC.presence_of_element_located((By.ID, \"search-button\"))\n",
    "    ) \n",
    "    time.sleep(20)   # coz BracU USIS is soOOOoo slow !!!!!!!!\n",
    "    for i in range(300):\n",
    "        search_button.click()\n",
    "    \n",
    "except: # if the text did not find then, pass it\n",
    "    pass"
   ]
  },
  {
   "cell_type": "markdown",
   "metadata": {},
   "source": [
    "## <font color='DeepPink'> Task 5: upload file</font>\n",
    "### <font color='DeepPink'> Hertfordshire University: </font>"
   ]
  },
  {
   "cell_type": "code",
   "execution_count": 5,
   "metadata": {},
   "outputs": [
    {
     "name": "stdout",
     "output_type": "stream",
     "text": [
      "ja ja ja x 1\n",
      "ja ja ja x 2\n"
     ]
    }
   ],
   "source": [
    "driver = webdriver.Chrome(PATH)\n",
    "driver.get('https://app.geckoform.com/public/?fbclid=IwAR0q9X73dE9xKIcvmBGhRjs_aUbVETJ1fdMnpsUOlNnt7u8b8P-g_qo5DPA#/modern/21FO00r2prn8tm00jet92j9ljt')\n",
    "# driver.maximize_window()\n",
    "driver.switch_to.frame\n",
    "try:\n",
    "\n",
    "    booked_before = WebDriverWait(driver, 10).until(\n",
    "        EC.presence_of_element_located((By.XPATH,\"(//div[@class='chosen-container chosen-container-single'])[1]\"))\n",
    "    )\n",
    "    booked_before.click()\n",
    "    time.sleep(2)\n",
    "    \n",
    "#     selecting_no = WebDriverWait(driver, 10).until(\n",
    "#         EC.presence_of_element_located((By.ID,\"field10633-option-3\"))\n",
    "#     )\n",
    "\n",
    "#     selecting_no.click()\n",
    "\n",
    "    selecting_no = WebDriverWait(driver, 10).until(\n",
    "        EC.presence_of_element_located((By.XPATH,\"//input[@aria-label='Have you already booked a sponsorship interview?: Search list']\"))\n",
    "    )\n",
    "    selecting_no.click()\n",
    "    selecting_no.clear()                # clear the input box first\n",
    "    selecting_no.send_keys(\"No\")        # use your email\n",
    "    selecting_no.send_keys(Keys.RETURN) # hit enter\n",
    "    \n",
    "    \n",
    "    first_name = WebDriverWait(driver, 10).until(\n",
    "        EC.presence_of_element_located((By.ID,\"form_4133\"))\n",
    "    )\n",
    "    first_name.click()    \n",
    "    first_name.clear()           # clear the input box first\n",
    "    first_name.send_keys(\"jaja\") # use your first name    \n",
    "    \n",
    "    \n",
    "    last_name = WebDriverWait(driver, 10).until(\n",
    "        EC.presence_of_element_located((By.XPATH,\"//input[@placeholder='Last Name']\"))\n",
    "    )\n",
    "    last_name.click()\n",
    "    last_name.clear()\n",
    "    last_name.send_keys(\"jaja\") # use your last name\n",
    "    \n",
    "    email = WebDriverWait(driver, 10).until(\n",
    "        EC.presence_of_element_located((By.ID,\"form_4134\"))\n",
    "    )\n",
    "    email.click()    \n",
    "    email.clear()                     # clear the input box first\n",
    "    email.send_keys(\"jaja@gmail.com\") # use your email    \n",
    "    \n",
    "    \n",
    "    std_id = WebDriverWait(driver, 10).until(\n",
    "        EC.presence_of_element_located((By.ID,\"form_4145\"))\n",
    "    )\n",
    "    std_id.click()    \n",
    "    std_id.clear()               # clear the input box first\n",
    "    std_id.send_keys(\"16301023\") # use your student id    \n",
    "    \n",
    "    \n",
    "    phone_num = WebDriverWait(driver, 10).until(\n",
    "        EC.presence_of_element_located((By.ID,\"form_4138\"))\n",
    "    )\n",
    "    phone_num.click()    \n",
    "    phone_num.clear()          # clear the input box first\n",
    "    phone_num.send_keys(\"5555\") # use your phone number    \n",
    "    \n",
    "\n",
    "    drop_flag = WebDriverWait(driver, 10).until(\n",
    "        EC.presence_of_element_located((By.XPATH,\"//div[@class='flag-dropdown']\"))\n",
    "    )\n",
    "    drop_flag.click()\n",
    "    \n",
    "    choose_flag = WebDriverWait(driver, 10).until(\n",
    "        EC.presence_of_element_located((By.XPATH,\"//li[@data-country-code='bd']\"))\n",
    "    )\n",
    "    choose_flag.click()\n",
    "    time.sleep(1)\n",
    "    \n",
    "    drop_nationality = WebDriverWait(driver, 10).until(\n",
    "        EC.presence_of_element_located((By.XPATH,\"(//div[@class='chosen-container chosen-container-single'])[2]\"))\n",
    "    )\n",
    "    drop_nationality.click()\n",
    "    print('ja ja ja x 1')\n",
    "    time.sleep(2)\n",
    "    \n",
    "    choose_nationality = WebDriverWait(driver, 10).until(\n",
    "        EC.presence_of_element_located((By.XPATH,\"(//div[@class='chosen-search'])[2]/input\"))\n",
    "    )\n",
    "    driver.execute_script(\"arguments[0].click()\", choose_nationality)\n",
    "    print('ja ja ja x 2')\n",
    "    choose_nationality.click()\n",
    "    choose_nationality.clear()                 # clear the input box first\n",
    "    choose_nationality.send_keys(\"Bangladesh\") # use your email\n",
    "    choose_nationality.send_keys(Keys.RETURN)  # hit enter\n",
    "    \n",
    "    \n",
    "    upload_btn = WebDriverWait(driver, 10).until(\n",
    "        EC.presence_of_element_located((By.XPATH,\"//button[@aria-label='Upload your video file here']\"))\n",
    "    )\n",
    "    upload_btn.click()\n",
    "    \n",
    "    \n",
    "    choose_file = WebDriverWait(driver, 10).until(\n",
    "        EC.presence_of_element_located((By.ID,\"inputfile_9982\"))\n",
    "    )\n",
    "    choose_file.send_keys(\"C://Users/Moinul Islam Shawon/Downloads/TestCaseTemplate.xls\")\n",
    "    time.sleep(1)\n",
    "    \n",
    "    \n",
    "    upload_file = WebDriverWait(driver, 10).until(\n",
    "        EC.presence_of_element_located((By.ID,\"file-upload_9982\"))\n",
    "    )\n",
    "    upload_file.click()\n",
    "\n",
    "\n",
    "    submit_button = WebDriverWait(driver, 10).until(\n",
    "        EC.presence_of_element_located((By.ID,\"form-submit\"))\n",
    "    )\n",
    "    \n",
    "#     submit_button.click()\n",
    "\n",
    "    \n",
    "except: # if the text did not find then, pass it\n",
    "    pass"
   ]
  },
  {
   "cell_type": "markdown",
   "metadata": {},
   "source": [
    "## <font color='LightBlue'> Task 6: giving like in photos</font>\n",
    "### <font color='LightBlue'> facebook: </font>"
   ]
  },
  {
   "cell_type": "code",
   "execution_count": 9,
   "metadata": {},
   "outputs": [
    {
     "name": "stdout",
     "output_type": "stream",
     "text": [
      "problem\n"
     ]
    }
   ],
   "source": [
    "driver = webdriver.Chrome(PATH)\n",
    "driver.get('https://www.facebook.com/')\n",
    "\n",
    "try:\n",
    "    \n",
    "    email_field = WebDriverWait(driver, 10).until(\n",
    "        EC.presence_of_element_located((By.ID,\"email\"))\n",
    "    )\n",
    "    email_field.click()    \n",
    "    email_field.clear()          # clear the input box first\n",
    "    email_field.send_keys(\"viper.shawon@gmail.com\") # use your first name   \n",
    "    \n",
    "    password_field = WebDriverWait(driver, 10).until(\n",
    "        EC.presence_of_element_located((By.ID,\"pass\"))\n",
    "    )\n",
    "    password_field.click()    \n",
    "    password_field.clear()          # clear the input box first\n",
    "    password_field.send_keys(\"292929bieber\") # use your first name \n",
    "    password_field.send_keys(Keys.RETURN)\n",
    "    time.sleep(1)\n",
    "    \n",
    "    search_button = WebDriverWait(driver, 10).until(\n",
    "        EC.presence_of_element_located((By.XPATH,\"//input[@dir='ltr']\"))\n",
    "    )\n",
    "    search_button.click()\n",
    "    search_button.clear()          # clear the input box first\n",
    "    search_button.send_keys(\"Moinul Islam\") # use your first name \n",
    "    search_button.send_keys(Keys.RETURN)\n",
    "    time.sleep(2)\n",
    "    \n",
    "    first_person = WebDriverWait(driver, 10).until(\n",
    "        EC.presence_of_element_located((By.XPATH,\"//a[@class='oajrlxb2 g5ia77u1 qu0x051f esr5mh6w e9989ue4 r7d6kgcz rq0escxv nhd2j8a9 nc684nl6 p7hjln8o kvgmc6g5 cxmmr5t8 oygrvhab hcukyx3x jb3vyjys rz4wbd8a qt6c0cv9 a8nywdso i1ao9s8h esuyzwwr f1sip0of lzcic4wl gmql0nx0 gpro0wi8 lrazzd5p dkezsu63']\"))\n",
    "    )\n",
    "    driver.execute_script(\"arguments[0].click()\", first_person)\n",
    "    time.sleep(1)\n",
    "    \n",
    "    fb_photos = WebDriverWait(driver, 10).until(\n",
    "        EC.presence_of_element_located((By.XPATH,\"//div[@class='cb02d2ww ni8dbmo4 stjgntxs l9j0dhe7 k4urcfbm du4w35lb lzcic4wl']//a[4]\"))\n",
    "    )\n",
    "    driver.execute_script(\"arguments[0].click()\", fb_photos)\n",
    "    time.sleep(1)\n",
    "    \n",
    "    fb_album = WebDriverWait(driver, 10).until(\n",
    "        EC.presence_of_element_located((By.XPATH,\"//div[@class='soycq5t1 l9j0dhe7']/div[2]/a[3]\"))\n",
    "    )\n",
    "    driver.execute_script(\"arguments[0].click()\", fb_album)\n",
    "    time.sleep(1)\n",
    "    \n",
    "    fb_prof_pic = WebDriverWait(driver, 10).until(\n",
    "        EC.presence_of_element_located((By.XPATH,\"(//div[@class='rq0escxv l9j0dhe7 du4w35lb j83agx80 cbu4d94t buofh1pr tgvbjcpo sv5sfqaa obtkqiv7'])[1]\"))\n",
    "    )\n",
    "    driver.execute_script(\"arguments[0].click()\", fb_prof_pic)\n",
    "    \n",
    "    first_prof_pic = WebDriverWait(driver, 10).until(\n",
    "        EC.presence_of_element_located((By.XPATH,\"(//div[@class='i09qtzwb rq0escxv n7fi1qx3 pmk7jnqg j9ispegn kr520xx4 opwvks06 hop1g133 linmgsc8 t63ysoy8'])[1]\"))\n",
    "    )\n",
    "    driver.execute_script(\"arguments[0].click()\", first_prof_pic)\n",
    "    time.sleep(1)\n",
    "    \n",
    "    give_like = WebDriverWait(driver, 10).until(\n",
    "        EC.presence_of_element_located((By.XPATH,\"(//div[@class='n00je7tq arfg74bv qs9ysxi8 k77z8yql i09qtzwb n7fi1qx3 b5wmifdl hzruof5a pmk7jnqg j9ispegn kr520xx4 c5ndavph art1omkt ot9fgl3s rnr61an3'])[4]\"))\n",
    "    )\n",
    "    driver.execute_script(\"arguments[0].click()\", give_like)\n",
    "    \n",
    "    \n",
    "    \n",
    "except: # if the text did not find then, pass it\n",
    "    print('problem')"
   ]
  }
 ],
 "metadata": {
  "interpreter": {
   "hash": "b3ba2566441a7c06988d0923437866b63cedc61552a5af99d1f4fb67d367b25f"
  },
  "kernelspec": {
   "display_name": "Python 3.8.5 64-bit ('base': conda)",
   "name": "python3"
  },
  "language_info": {
   "codemirror_mode": {
    "name": "ipython",
    "version": 3
   },
   "file_extension": ".py",
   "mimetype": "text/x-python",
   "name": "python",
   "nbconvert_exporter": "python",
   "pygments_lexer": "ipython3",
   "version": "3.8.5"
  }
 },
 "nbformat": 4,
 "nbformat_minor": 4
}
