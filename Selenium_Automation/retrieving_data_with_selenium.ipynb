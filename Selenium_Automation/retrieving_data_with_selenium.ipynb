{
 "cells": [
  {
   "cell_type": "markdown",
   "source": [
    "## Retrieve and clean data from website using selenium and pandas.\r\n",
    "### go to a e-commerce website, search for a product, ask how many page need to visit, check all the details, make data frame using pd, and generate excel sheet."
   ],
   "metadata": {}
  },
  {
   "cell_type": "code",
   "execution_count": 2,
   "source": [
    "from selenium import webdriver\r\n",
    "from selenium.webdriver.common.keys import Keys\r\n",
    "import time\r\n",
    "\r\n",
    "from selenium.webdriver.common.by import By\r\n",
    "from selenium.webdriver.support.ui import WebDriverWait\r\n",
    "from selenium.webdriver.support.ui import Select\r\n",
    "from selenium.webdriver.support import expected_conditions as EC\r\n",
    "from selenium.webdriver.common.action_chains import ActionChains\r\n",
    "import pandas as pd"
   ],
   "outputs": [],
   "metadata": {}
  },
  {
   "cell_type": "code",
   "execution_count": 3,
   "source": [
    "PATH = 'C:\\Program Files (x86)\\chromedriver.exe'"
   ],
   "outputs": [],
   "metadata": {}
  },
  {
   "cell_type": "code",
   "execution_count": 4,
   "source": [
    "page_number = int(input(\"How many pages do you want to go after first one?\"))\r\n",
    "\r\n",
    "driver = webdriver.Chrome(PATH)\r\n",
    "driver.get('https://evaly.com.bd/')\r\n",
    "# driver.maximize_window()\r\n",
    "\r\n",
    "try:\r\n",
    "    ad_close = WebDriverWait(driver, 10).until(\r\n",
    "        EC.presence_of_element_located((By.XPATH,\"//button[@class='absolute top-0 right-0 p-2 text-black']\"))\r\n",
    "    ) # sometimes the window pops up. sometimes it doen't !!\r\n",
    "    ad_close.click()\r\n",
    "except:\r\n",
    "    pass\r\n",
    "\r\n",
    "try:\r\n",
    "    search_product = WebDriverWait(driver, 10).until(\r\n",
    "        EC.presence_of_element_located((By.XPATH,\"//input[@aria-controls='listbox--1']\"))\r\n",
    "    )\r\n",
    "    search_product.click()\r\n",
    "    search_product.clear()                # clear the input box first\r\n",
    "    search_product.send_keys(\"Samsung\") \r\n",
    "    search_product.send_keys(Keys.RETURN) # hit enter\r\n",
    "    \r\n",
    "    # Make empty list, later append these texts from the element.\r\n",
    "    name_list = []\r\n",
    "    store_list = []\r\n",
    "    price_list = []\r\n",
    "    \r\n",
    "    def page_elements():\r\n",
    "        name_of_products = WebDriverWait(driver, 10).until(\r\n",
    "            EC.presence_of_all_elements_located((By.XPATH,\"//div[@class='p-2']//p[@class='text-sm font-semibold leading-7 text-center text-gray-800']\"))\r\n",
    "        ) # as this is a list. need to use: presence_of_all_elements_located\r\n",
    "        \r\n",
    "        name_of_stores = WebDriverWait(driver, 10).until(\r\n",
    "            EC.presence_of_all_elements_located((By.XPATH,\"//div[@class='p-2']//p[@class='text-sm font-semibold text-center text-gray-600']\"))\r\n",
    "        )\r\n",
    "        \r\n",
    "        product_price = WebDriverWait(driver, 10).until(\r\n",
    "            EC.presence_of_all_elements_located((By.XPATH,\"//div[@class='p-2']//p[@class='SearchProductCard___StyledP2-sc-1cl8oip-1 gRXyNA']|//p[@class='SearchProductCard___StyledP3-sc-1cl8oip-2 hdejTW']\"))\r\n",
    "        )\r\n",
    "        \r\n",
    "        for i in name_of_products: # itterate through the list and appending item into the new list\r\n",
    "            name_list.append(i.text)\r\n",
    "\r\n",
    "        for i in name_of_stores:\r\n",
    "            store_list.append(i.text)\r\n",
    "\r\n",
    "        for i in product_price:\r\n",
    "            price_list.append(i.text)\r\n",
    "    \r\n",
    "\r\n",
    "    page_elements() # always print the first page from landing page. for next page need to work more\r\n",
    "    \r\n",
    "    for i in range((page_number - 1)): # first page always print. so, range will be: given page num - number of page already printed \r\n",
    "        next_page = WebDriverWait(driver, 10).until(\r\n",
    "            EC.presence_of_element_located((By.XPATH,\"//ul[@class='pagination']/li/a[@aria-label='Page {}']\".format(i+2)))\r\n",
    "        ) # clicking next btn wont work. so, going one by one page. need to start clicking from page 2 to till last page number\r\n",
    "        next_page.click()\r\n",
    "        time.sleep(2)\r\n",
    "        page_elements()\r\n",
    "            \r\n",
    "    print('Total page visited: {}'.format(page_number), ', and total product found: ', len(name_list))\r\n",
    "except: # if the text did not find then, pass it\r\n",
    "    print('Sorry, there is a problem')"
   ],
   "outputs": [
    {
     "output_type": "stream",
     "name": "stdout",
     "text": [
      "Total page visited: 4 , and total product found:  80\n"
     ]
    }
   ],
   "metadata": {}
  },
  {
   "cell_type": "markdown",
   "source": [
    "**Make a dictionary so that we can convert it into DataFrame.** We also can take item.text from the elements list and store in a dictionary, using a for loop. Then, put the dict in a list. This list can directly be used in pandas dataframe."
   ],
   "metadata": {}
  },
  {
   "cell_type": "code",
   "execution_count": 5,
   "source": [
    "product_dict = {'Product Name': name_list,\r\n",
    "                'Store': store_list,\r\n",
    "                'Price': price_list}"
   ],
   "outputs": [],
   "metadata": {}
  },
  {
   "cell_type": "markdown",
   "source": [
    "**Making DataFrame with pandas** "
   ],
   "metadata": {}
  },
  {
   "cell_type": "code",
   "execution_count": 6,
   "source": [
    "df = pd.DataFrame.from_dict(product_dict)"
   ],
   "outputs": [],
   "metadata": {}
  },
  {
   "cell_type": "markdown",
   "source": [
    "**Data cleaning as '৳' not looking cool.**"
   ],
   "metadata": {}
  },
  {
   "cell_type": "code",
   "execution_count": 7,
   "source": [
    "df['Price'] = df['Price'].apply(lambda z: z.replace('৳', 'TK: '))\r\n",
    "df"
   ],
   "outputs": [
    {
     "output_type": "execute_result",
     "data": {
      "text/html": [
       "<div>\n",
       "<style scoped>\n",
       "    .dataframe tbody tr th:only-of-type {\n",
       "        vertical-align: middle;\n",
       "    }\n",
       "\n",
       "    .dataframe tbody tr th {\n",
       "        vertical-align: top;\n",
       "    }\n",
       "\n",
       "    .dataframe thead th {\n",
       "        text-align: right;\n",
       "    }\n",
       "</style>\n",
       "<table border=\"1\" class=\"dataframe\">\n",
       "  <thead>\n",
       "    <tr style=\"text-align: right;\">\n",
       "      <th></th>\n",
       "      <th>Product Name</th>\n",
       "      <th>Store</th>\n",
       "      <th>Price</th>\n",
       "    </tr>\n",
       "  </thead>\n",
       "  <tbody>\n",
       "    <tr>\n",
       "      <th>0</th>\n",
       "      <td>Samsung RT34K5532S8/D3 Refrigerator - 321L</td>\n",
       "      <td>Samsung Electronics for Priority Store</td>\n",
       "      <td>TK: 48300</td>\n",
       "    </tr>\n",
       "    <tr>\n",
       "      <th>1</th>\n",
       "      <td>Samsung 32'' UA32N4010ARSFS LED TV - Black</td>\n",
       "      <td>Samsung Electronics for Priority Store</td>\n",
       "      <td>TK: 25462</td>\n",
       "    </tr>\n",
       "    <tr>\n",
       "      <th>2</th>\n",
       "      <td>Samsung AX90R7080WD/EU Air Purifier - White</td>\n",
       "      <td>Samsung Electronics for Priority Store</td>\n",
       "      <td>TK: 41444</td>\n",
       "    </tr>\n",
       "    <tr>\n",
       "      <th>3</th>\n",
       "      <td>Samsung AX40R3030WM/EU Air Purifier - White</td>\n",
       "      <td>Samsung Electronics for Priority Store</td>\n",
       "      <td>TK: 22409</td>\n",
       "    </tr>\n",
       "    <tr>\n",
       "      <th>4</th>\n",
       "      <td>Samsung AR18TVHYDWKUFE Air Conditioner-1.5 Ton...</td>\n",
       "      <td>Samsung Electronics for Priority Store</td>\n",
       "      <td>TK: 79022</td>\n",
       "    </tr>\n",
       "    <tr>\n",
       "      <th>...</th>\n",
       "      <td>...</td>\n",
       "      <td>...</td>\n",
       "      <td>...</td>\n",
       "    </tr>\n",
       "    <tr>\n",
       "      <th>75</th>\n",
       "      <td>Samsung Micro SD Memory Card - 32GB - Black</td>\n",
       "      <td>Smart Gadgets Bangladesh for Cash on Delivery ...</td>\n",
       "      <td>TK: 499</td>\n",
       "    </tr>\n",
       "    <tr>\n",
       "      <th>76</th>\n",
       "      <td>Samsung Super Fast PD Adapter - 25W - Black</td>\n",
       "      <td>Nextera Design &amp; Sourcing for Cash on Delivery...</td>\n",
       "      <td>TK: 1500</td>\n",
       "    </tr>\n",
       "    <tr>\n",
       "      <th>77</th>\n",
       "      <td>Samsung Super Fast PD Adapter - 45W - Black</td>\n",
       "      <td>Nextera Design &amp; Sourcing for Cash on Delivery...</td>\n",
       "      <td>TK: 1925</td>\n",
       "    </tr>\n",
       "    <tr>\n",
       "      <th>78</th>\n",
       "      <td>Samsung Micro SD Memory Card - 64 GB - Black -...</td>\n",
       "      <td>GADGET KHOR for Cash on Delivery Service</td>\n",
       "      <td>TK: 980</td>\n",
       "    </tr>\n",
       "    <tr>\n",
       "      <th>79</th>\n",
       "      <td>Samsung Micro SD Memory Card - 32 GB - Black -...</td>\n",
       "      <td>GADGET KHOR for Cash on Delivery Service</td>\n",
       "      <td>TK: 700</td>\n",
       "    </tr>\n",
       "  </tbody>\n",
       "</table>\n",
       "<p>80 rows × 3 columns</p>\n",
       "</div>"
      ],
      "text/plain": [
       "                                         Product Name  \\\n",
       "0          Samsung RT34K5532S8/D3 Refrigerator - 321L   \n",
       "1          Samsung 32'' UA32N4010ARSFS LED TV - Black   \n",
       "2         Samsung AX90R7080WD/EU Air Purifier - White   \n",
       "3         Samsung AX40R3030WM/EU Air Purifier - White   \n",
       "4   Samsung AR18TVHYDWKUFE Air Conditioner-1.5 Ton...   \n",
       "..                                                ...   \n",
       "75        Samsung Micro SD Memory Card - 32GB - Black   \n",
       "76        Samsung Super Fast PD Adapter - 25W - Black   \n",
       "77        Samsung Super Fast PD Adapter - 45W - Black   \n",
       "78  Samsung Micro SD Memory Card - 64 GB - Black -...   \n",
       "79  Samsung Micro SD Memory Card - 32 GB - Black -...   \n",
       "\n",
       "                                                Store      Price  \n",
       "0              Samsung Electronics for Priority Store  TK: 48300  \n",
       "1              Samsung Electronics for Priority Store  TK: 25462  \n",
       "2              Samsung Electronics for Priority Store  TK: 41444  \n",
       "3              Samsung Electronics for Priority Store  TK: 22409  \n",
       "4              Samsung Electronics for Priority Store  TK: 79022  \n",
       "..                                                ...        ...  \n",
       "75  Smart Gadgets Bangladesh for Cash on Delivery ...    TK: 499  \n",
       "76  Nextera Design & Sourcing for Cash on Delivery...   TK: 1500  \n",
       "77  Nextera Design & Sourcing for Cash on Delivery...   TK: 1925  \n",
       "78           GADGET KHOR for Cash on Delivery Service    TK: 980  \n",
       "79           GADGET KHOR for Cash on Delivery Service    TK: 700  \n",
       "\n",
       "[80 rows x 3 columns]"
      ]
     },
     "metadata": {},
     "execution_count": 7
    }
   ],
   "metadata": {}
  },
  {
   "cell_type": "markdown",
   "source": [
    "**Generating excel file**"
   ],
   "metadata": {}
  },
  {
   "cell_type": "code",
   "execution_count": 8,
   "source": [
    "df.to_excel('product details.xlsx', index = False)"
   ],
   "outputs": [],
   "metadata": {}
  }
 ],
 "metadata": {
  "orig_nbformat": 4,
  "language_info": {
   "name": "python",
   "version": "3.8.5",
   "mimetype": "text/x-python",
   "codemirror_mode": {
    "name": "ipython",
    "version": 3
   },
   "pygments_lexer": "ipython3",
   "nbconvert_exporter": "python",
   "file_extension": ".py"
  },
  "kernelspec": {
   "name": "python3",
   "display_name": "Python 3.8.5 64-bit ('base': conda)"
  },
  "interpreter": {
   "hash": "b3ba2566441a7c06988d0923437866b63cedc61552a5af99d1f4fb67d367b25f"
  }
 },
 "nbformat": 4,
 "nbformat_minor": 2
}