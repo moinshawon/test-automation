{
 "cells": [
  {
   "cell_type": "markdown",
   "metadata": {},
   "source": [
    "## Retrieve and clean data from website using selenium and pandas.\n",
    "### Go to an e-commerce website, search for a product, ask how many pages need to visit, check all the details, make a data frame using PD, and generate an excel sheet."
   ]
  },
  {
   "cell_type": "code",
   "execution_count": 2,
   "metadata": {},
   "outputs": [],
   "source": [
    "from selenium import webdriver\n",
    "from selenium.webdriver.common.keys import Keys\n",
    "import time\n",
    "\n",
    "from selenium.webdriver.common.by import By\n",
    "from selenium.webdriver.support.ui import WebDriverWait\n",
    "from selenium.webdriver.support.ui import Select\n",
    "from selenium.webdriver.support import expected_conditions as EC\n",
    "from selenium.webdriver.common.action_chains import ActionChains\n",
    "import pandas as pd"
   ]
  },
  {
   "cell_type": "code",
   "execution_count": 3,
   "metadata": {},
   "outputs": [],
   "source": [
    "PATH = 'C:\\Program Files (x86)\\chromedriver.exe'"
   ]
  },
  {
   "cell_type": "code",
   "execution_count": 4,
   "metadata": {},
   "outputs": [
    {
     "name": "stdout",
     "output_type": "stream",
     "text": [
      "Total page visited: 4 , and total product found:  80\n"
     ]
    }
   ],
   "source": [
    "page_number = int(input(\"How many pages do you want to go after first one?\"))\n",
    "\n",
    "driver = webdriver.Chrome(PATH)\n",
    "driver.get('https://evaly.com.bd/')\n",
    "# driver.maximize_window()\n",
    "\n",
    "try:\n",
    "    ad_close = WebDriverWait(driver, 10).until(\n",
    "        EC.presence_of_element_located((By.XPATH,\"//button[@class='absolute top-0 right-0 p-2 text-black']\"))\n",
    "    ) # sometimes the window pops up. sometimes it doen't !!\n",
    "    ad_close.click()\n",
    "except:\n",
    "    pass\n",
    "\n",
    "try:\n",
    "    search_product = WebDriverWait(driver, 10).until(\n",
    "        EC.presence_of_element_located((By.XPATH,\"//input[@aria-controls='listbox--1']\"))\n",
    "    )\n",
    "    search_product.click()\n",
    "    search_product.clear()                # clear the input box first\n",
    "    search_product.send_keys(\"Samsung\") \n",
    "    search_product.send_keys(Keys.RETURN) # hit enter\n",
    "    \n",
    "    # Make empty list, later append these texts from the element.\n",
    "    name_list = []\n",
    "    store_list = []\n",
    "    price_list = []\n",
    "    \n",
    "    def page_elements():\n",
    "        name_of_products = WebDriverWait(driver, 10).until(\n",
    "            EC.presence_of_all_elements_located((By.XPATH,\"//div[@class='p-2']//p[@class='text-sm font-semibold leading-7 text-center text-gray-800']\"))\n",
    "        ) # as this is a list. need to use: presence_of_all_elements_located\n",
    "        \n",
    "        name_of_stores = WebDriverWait(driver, 10).until(\n",
    "            EC.presence_of_all_elements_located((By.XPATH,\"//div[@class='p-2']//p[@class='text-sm font-semibold text-center text-gray-600']\"))\n",
    "        )\n",
    "        \n",
    "        product_price = WebDriverWait(driver, 10).until(\n",
    "            EC.presence_of_all_elements_located((By.XPATH,\"//div[@class='p-2']//p[@class='SearchProductCard___StyledP2-sc-1cl8oip-1 gRXyNA']|//p[@class='SearchProductCard___StyledP3-sc-1cl8oip-2 hdejTW']\"))\n",
    "        )\n",
    "        \n",
    "        for i in name_of_products: # itterate through the list and appending item into the new list\n",
    "            name_list.append(i.text)\n",
    "\n",
    "        for i in name_of_stores:\n",
    "            store_list.append(i.text)\n",
    "\n",
    "        for i in product_price:\n",
    "            price_list.append(i.text)\n",
    "    \n",
    "\n",
    "    page_elements() # always print the first page from landing page. for next page need to work more\n",
    "    \n",
    "    for i in range((page_number - 1)): # first page always print. so, range will be: given page num - number of page already printed \n",
    "        next_page = WebDriverWait(driver, 10).until(\n",
    "            EC.presence_of_element_located((By.XPATH,\"//ul[@class='pagination']/li/a[@aria-label='Page {}']\".format(i+2)))\n",
    "        ) # clicking next btn wont work. so, going one by one page. need to start clicking from page 2 to till last page number\n",
    "        next_page.click()\n",
    "        time.sleep(2)\n",
    "        page_elements()\n",
    "            \n",
    "    print('Total page visited: {}'.format(page_number), ', and total product found: ', len(name_list))\n",
    "except: # if the text did not find then, pass it\n",
    "    print('Sorry, there is a problem')"
   ]
  },
  {
   "cell_type": "markdown",
   "metadata": {},
   "source": [
    "**Make a dictionary so that we can convert it into DataFrame.** We also can take item.text from the elements list and store in a dictionary, using a for loop. Then, put the dict in a list. This list can directly be used in pandas dataframe."
   ]
  },
  {
   "cell_type": "code",
   "execution_count": 5,
   "metadata": {},
   "outputs": [],
   "source": [
    "product_dict = {'Product Name': name_list,\n",
    "                'Store': store_list,\n",
    "                'Price': price_list}"
   ]
  },
  {
   "cell_type": "markdown",
   "metadata": {},
   "source": [
    "**Making DataFrame with pandas** "
   ]
  },
  {
   "cell_type": "code",
   "execution_count": 6,
   "metadata": {},
   "outputs": [],
   "source": [
    "df = pd.DataFrame.from_dict(product_dict)"
   ]
  },
  {
   "cell_type": "markdown",
   "metadata": {},
   "source": [
    "**Data cleaning as '৳' not looking cool.**"
   ]
  },
  {
   "cell_type": "code",
   "execution_count": 7,
   "metadata": {},
   "outputs": [
    {
     "data": {
      "text/html": [
       "<div>\n",
       "<style scoped>\n",
       "    .dataframe tbody tr th:only-of-type {\n",
       "        vertical-align: middle;\n",
       "    }\n",
       "\n",
       "    .dataframe tbody tr th {\n",
       "        vertical-align: top;\n",
       "    }\n",
       "\n",
       "    .dataframe thead th {\n",
       "        text-align: right;\n",
       "    }\n",
       "</style>\n",
       "<table border=\"1\" class=\"dataframe\">\n",
       "  <thead>\n",
       "    <tr style=\"text-align: right;\">\n",
       "      <th></th>\n",
       "      <th>Product Name</th>\n",
       "      <th>Store</th>\n",
       "      <th>Price</th>\n",
       "    </tr>\n",
       "  </thead>\n",
       "  <tbody>\n",
       "    <tr>\n",
       "      <th>0</th>\n",
       "      <td>Samsung RT34K5532S8/D3 Refrigerator - 321L</td>\n",
       "      <td>Samsung Electronics for Priority Store</td>\n",
       "      <td>TK: 48300</td>\n",
       "    </tr>\n",
       "    <tr>\n",
       "      <th>1</th>\n",
       "      <td>Samsung 32'' UA32N4010ARSFS LED TV - Black</td>\n",
       "      <td>Samsung Electronics for Priority Store</td>\n",
       "      <td>TK: 25462</td>\n",
       "    </tr>\n",
       "    <tr>\n",
       "      <th>2</th>\n",
       "      <td>Samsung AX90R7080WD/EU Air Purifier - White</td>\n",
       "      <td>Samsung Electronics for Priority Store</td>\n",
       "      <td>TK: 41444</td>\n",
       "    </tr>\n",
       "    <tr>\n",
       "      <th>3</th>\n",
       "      <td>Samsung AX40R3030WM/EU Air Purifier - White</td>\n",
       "      <td>Samsung Electronics for Priority Store</td>\n",
       "      <td>TK: 22409</td>\n",
       "    </tr>\n",
       "    <tr>\n",
       "      <th>4</th>\n",
       "      <td>Samsung AR18TVHYDWKUFE Air Conditioner-1.5 Ton...</td>\n",
       "      <td>Samsung Electronics for Priority Store</td>\n",
       "      <td>TK: 79022</td>\n",
       "    </tr>\n",
       "    <tr>\n",
       "      <th>...</th>\n",
       "      <td>...</td>\n",
       "      <td>...</td>\n",
       "      <td>...</td>\n",
       "    </tr>\n",
       "    <tr>\n",
       "      <th>75</th>\n",
       "      <td>Samsung Micro SD Memory Card - 32GB - Black</td>\n",
       "      <td>Smart Gadgets Bangladesh for Cash on Delivery ...</td>\n",
       "      <td>TK: 499</td>\n",
       "    </tr>\n",
       "    <tr>\n",
       "      <th>76</th>\n",
       "      <td>Samsung Super Fast PD Adapter - 25W - Black</td>\n",
       "      <td>Nextera Design &amp; Sourcing for Cash on Delivery...</td>\n",
       "      <td>TK: 1500</td>\n",
       "    </tr>\n",
       "    <tr>\n",
       "      <th>77</th>\n",
       "      <td>Samsung Super Fast PD Adapter - 45W - Black</td>\n",
       "      <td>Nextera Design &amp; Sourcing for Cash on Delivery...</td>\n",
       "      <td>TK: 1925</td>\n",
       "    </tr>\n",
       "    <tr>\n",
       "      <th>78</th>\n",
       "      <td>Samsung Micro SD Memory Card - 64 GB - Black -...</td>\n",
       "      <td>GADGET KHOR for Cash on Delivery Service</td>\n",
       "      <td>TK: 980</td>\n",
       "    </tr>\n",
       "    <tr>\n",
       "      <th>79</th>\n",
       "      <td>Samsung Micro SD Memory Card - 32 GB - Black -...</td>\n",
       "      <td>GADGET KHOR for Cash on Delivery Service</td>\n",
       "      <td>TK: 700</td>\n",
       "    </tr>\n",
       "  </tbody>\n",
       "</table>\n",
       "<p>80 rows × 3 columns</p>\n",
       "</div>"
      ],
      "text/plain": [
       "                                         Product Name  \\\n",
       "0          Samsung RT34K5532S8/D3 Refrigerator - 321L   \n",
       "1          Samsung 32'' UA32N4010ARSFS LED TV - Black   \n",
       "2         Samsung AX90R7080WD/EU Air Purifier - White   \n",
       "3         Samsung AX40R3030WM/EU Air Purifier - White   \n",
       "4   Samsung AR18TVHYDWKUFE Air Conditioner-1.5 Ton...   \n",
       "..                                                ...   \n",
       "75        Samsung Micro SD Memory Card - 32GB - Black   \n",
       "76        Samsung Super Fast PD Adapter - 25W - Black   \n",
       "77        Samsung Super Fast PD Adapter - 45W - Black   \n",
       "78  Samsung Micro SD Memory Card - 64 GB - Black -...   \n",
       "79  Samsung Micro SD Memory Card - 32 GB - Black -...   \n",
       "\n",
       "                                                Store      Price  \n",
       "0              Samsung Electronics for Priority Store  TK: 48300  \n",
       "1              Samsung Electronics for Priority Store  TK: 25462  \n",
       "2              Samsung Electronics for Priority Store  TK: 41444  \n",
       "3              Samsung Electronics for Priority Store  TK: 22409  \n",
       "4              Samsung Electronics for Priority Store  TK: 79022  \n",
       "..                                                ...        ...  \n",
       "75  Smart Gadgets Bangladesh for Cash on Delivery ...    TK: 499  \n",
       "76  Nextera Design & Sourcing for Cash on Delivery...   TK: 1500  \n",
       "77  Nextera Design & Sourcing for Cash on Delivery...   TK: 1925  \n",
       "78           GADGET KHOR for Cash on Delivery Service    TK: 980  \n",
       "79           GADGET KHOR for Cash on Delivery Service    TK: 700  \n",
       "\n",
       "[80 rows x 3 columns]"
      ]
     },
     "execution_count": 7,
     "metadata": {},
     "output_type": "execute_result"
    }
   ],
   "source": [
    "df['Price'] = df['Price'].apply(lambda z: z.replace('৳', 'TK: '))\n",
    "df"
   ]
  },
  {
   "cell_type": "markdown",
   "metadata": {},
   "source": [
    "**Generating excel file**"
   ]
  },
  {
   "cell_type": "code",
   "execution_count": 8,
   "metadata": {},
   "outputs": [],
   "source": [
    "df.to_excel('product details.xlsx', index = False)"
   ]
  }
 ],
 "metadata": {
  "interpreter": {
   "hash": "b3ba2566441a7c06988d0923437866b63cedc61552a5af99d1f4fb67d367b25f"
  },
  "kernelspec": {
   "display_name": "Python 3.8.5 64-bit ('base': conda)",
   "name": "python3"
  },
  "language_info": {
   "codemirror_mode": {
    "name": "ipython",
    "version": 3
   },
   "file_extension": ".py",
   "mimetype": "text/x-python",
   "name": "python",
   "nbconvert_exporter": "python",
   "pygments_lexer": "ipython3",
   "version": "3.10.2"
  },
  "orig_nbformat": 4
 },
 "nbformat": 4,
 "nbformat_minor": 2
}
